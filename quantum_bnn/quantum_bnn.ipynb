{
 "cells": [
  {
   "cell_type": "code",
   "execution_count": 4,
   "metadata": {},
   "outputs": [
    {
     "ename": "ModuleNotFoundError",
     "evalue": "No module named 'qiskit'",
     "output_type": "error",
     "traceback": [
      "\u001b[0;31m---------------------------------------------------------------------------\u001b[0m",
      "\u001b[0;31mModuleNotFoundError\u001b[0m                       Traceback (most recent call last)",
      "\u001b[0;32m<ipython-input-4-2e78eeb3ea50>\u001b[0m in \u001b[0;36m<module>\u001b[0;34m\u001b[0m\n\u001b[0;32m----> 1\u001b[0;31m \u001b[0;32mfrom\u001b[0m \u001b[0mqiskit\u001b[0m \u001b[0;32mimport\u001b[0m \u001b[0mQuantumRegister\u001b[0m\u001b[0;34m,\u001b[0m \u001b[0mClassicalRegister\u001b[0m\u001b[0;34m\u001b[0m\u001b[0;34m\u001b[0m\u001b[0m\n\u001b[0m\u001b[1;32m      2\u001b[0m \u001b[0;32mfrom\u001b[0m \u001b[0mqiskit\u001b[0m \u001b[0;32mimport\u001b[0m \u001b[0mQuantumCircuit\u001b[0m\u001b[0;34m,\u001b[0m \u001b[0mexecute\u001b[0m\u001b[0;34m,\u001b[0m \u001b[0mAer\u001b[0m\u001b[0;34m,\u001b[0m \u001b[0mIBMQ\u001b[0m\u001b[0;34m\u001b[0m\u001b[0;34m\u001b[0m\u001b[0m\n\u001b[1;32m      3\u001b[0m \u001b[0;32mfrom\u001b[0m \u001b[0mqiskit\u001b[0m\u001b[0;34m.\u001b[0m\u001b[0mcompiler\u001b[0m \u001b[0;32mimport\u001b[0m \u001b[0mtranspile\u001b[0m\u001b[0;34m,\u001b[0m \u001b[0massemble\u001b[0m\u001b[0;34m\u001b[0m\u001b[0;34m\u001b[0m\u001b[0m\n\u001b[1;32m      4\u001b[0m \u001b[0;32mfrom\u001b[0m \u001b[0mqiskit\u001b[0m\u001b[0;34m.\u001b[0m\u001b[0mtools\u001b[0m\u001b[0;34m.\u001b[0m\u001b[0mjupyter\u001b[0m \u001b[0;32mimport\u001b[0m \u001b[0;34m*\u001b[0m\u001b[0;34m\u001b[0m\u001b[0;34m\u001b[0m\u001b[0m\n\u001b[1;32m      5\u001b[0m \u001b[0;32mfrom\u001b[0m \u001b[0mqiskit\u001b[0m\u001b[0;34m.\u001b[0m\u001b[0mvisualization\u001b[0m \u001b[0;32mimport\u001b[0m \u001b[0;34m*\u001b[0m\u001b[0;34m\u001b[0m\u001b[0;34m\u001b[0m\u001b[0m\n",
      "\u001b[0;31mModuleNotFoundError\u001b[0m: No module named 'qiskit'"
     ]
    }
   ],
   "source": [
    "from qiskit import QuantumRegister, ClassicalRegister\n",
    "from qiskit import QuantumCircuit, execute, Aer, IBMQ\n",
    "from qiskit.compiler import transpile, assemble\n",
    "from qiskit.tools.jupyter import *\n",
    "from qiskit.visualization import *\n",
    "import matplotlib.pyplot as plt\n",
    "%matplotlib inline"
   ]
  },
  {
   "cell_type": "markdown",
   "metadata": {},
   "source": [
    "# Quantum Binary Neural Network or BNN\n",
    "\n",
    "This notebook is the replication of the article [Training and Meta-Training Binary Neural Networks with quantum computing](http://delivery.acm.org/10.1145/3340000/3330953/p1674-fawaz.pdf?ip=150.161.2.202&id=3330953&acc=ACTIVE%20SERVICE&key=344E943C9DC262BB%2ECE287F0A0786CB60%2E4D4702B0C3E38B35%2E4D4702B0C3E38B35&__acm__=1568896858_67f5ed409089b2de442af612b6393a9e)\n",
    "\n",
    "\n",
    "A binary neural neural network is the type of neural network where its weights and activations are binary,\n",
    "usually $ \\pm 1$.\n",
    "In this [work](http://delivery.acm.org/10.1145/3340000/3330953/p1674-fawaz.pdf?ip=150.161.2.202&id=3330953&acc=ACTIVE%20SERVICE&key=344E943C9DC262BB%2ECE287F0A0786CB60%2E4D4702B0C3E38B35%2E4D4702B0C3E38B35&__acm__=1568896858_67f5ed409089b2de442af612b6393a9e) the authors proposed a simple implementation of a quantum BNN. Where its inputs are binary strings and it performs the task of binary classification. \n",
    "\n",
    "First, the definition of the inputs have been made. For simplicity, the authors have only defined two problems for classification where, given a binary string $x_0x_1x_3$ its label will be defined as:\n",
    "\n",
    "For problem 1:\n",
    "$$\n",
    "y  = sign(x_3x_1 + x_2) \n",
    "$$\n",
    "\n",
    "\n",
    "For problem 2:\n",
    "$$\n",
    "y = sign(x_1 + x_3 + x_2) \n",
    "$$\n",
    "\n",
    "After makning the definitions, the authors have presented how such a system could be implemented in a quantum chip, using quantum gates.\n",
    "\n",
    "First they had to decide how to implement the $sign$ function. Which they opted to implement another version of the function: $sign^2(x)$ or the majority function.  Which returns "
   ]
  }
 ],
 "metadata": {
  "kernelspec": {
   "display_name": "Python 3",
   "language": "python",
   "name": "python3"
  },
  "language_info": {
   "codemirror_mode": {
    "name": "ipython",
    "version": 3
   },
   "file_extension": ".py",
   "mimetype": "text/x-python",
   "name": "python",
   "nbconvert_exporter": "python",
   "pygments_lexer": "ipython3",
   "version": "3.6.8"
  }
 },
 "nbformat": 4,
 "nbformat_minor": 2
}
