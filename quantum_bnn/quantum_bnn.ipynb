{
 "cells": [
  {
   "cell_type": "code",
   "execution_count": 3,
   "metadata": {},
   "outputs": [],
   "source": [
    "from qiskit import QuantumRegister, ClassicalRegister\n",
    "from qiskit import QuantumCircuit, execute, Aer, IBMQ\n",
    "from qiskit.compiler import transpile, assemble\n",
    "from qiskit.tools.jupyter import *\n",
    "from qiskit.visualization import *\n",
    "import matplotlib.pyplot as plt\n",
    "import cv2\n",
    "%matplotlib inline"
   ]
  },
  {
   "cell_type": "markdown",
   "metadata": {},
   "source": [
    "# Quantum Binary Neural Network or BNN\n",
    "\n",
    "This notebook is the replication of the article [Training and Meta-Training Binary Neural Networks with quantum computing](http://delivery.acm.org/10.1145/3340000/3330953/p1674-fawaz.pdf?ip=150.161.2.202&id=3330953&acc=ACTIVE%20SERVICE&key=344E943C9DC262BB%2ECE287F0A0786CB60%2E4D4702B0C3E38B35%2E4D4702B0C3E38B35&__acm__=1568896858_67f5ed409089b2de442af612b6393a9e)\n",
    "\n",
    "\n",
    "A binary neural neural network is the type of neural network where its weights and activations are binary,\n",
    "usually $ \\pm 1$.\n",
    "In this [work](http://delivery.acm.org/10.1145/3340000/3330953/p1674-fawaz.pdf?ip=150.161.2.202&id=3330953&acc=ACTIVE%20SERVICE&key=344E943C9DC262BB%2ECE287F0A0786CB60%2E4D4702B0C3E38B35%2E4D4702B0C3E38B35&__acm__=1568896858_67f5ed409089b2de442af612b6393a9e) the authors proposed a simple implementation of a quantum BNN. Where its inputs are binary strings and it performs the task of binary classification. \n",
    "\n",
    "First, the authors have defined the format of the inputs and how the labels were to be assigned. For simplicity, the authors have only defined two problems for classification where, given a binary string $x_0x_1x_3$ its labels will be defined as:\n",
    "\n",
    "For problem 1:\n",
    "$$\n",
    "y  = sign(x_3x_1 + x_2) \n",
    "$$\n",
    "\n",
    "\n",
    "For problem 2:\n",
    "$$\n",
    "y = sign(x_1 + x_3 + x_2) \n",
    "$$\n",
    "\n",
    "After making the definitions, the authors have presented how such a system could be implemented in a quantum chip, using quantum gates.\n",
    "\n",
    "First they had to decide how to implement the $sign$ function. Which they opted to implement another version of the function: $sign^2(x)$ or the majority function.  Which returns $1$ whenever at least a certain percentage of the binary string is set to $1$. The followonig image shows the implementation of the classical majority function . "
   ]
  },
  {
   "cell_type": "code",
   "execution_count": 6,
   "metadata": {},
   "outputs": [
    {
     "data": {
      "image/png": "[encoded data removed]",
      "text/plain": [
       "<Figure size 1080x360 with 1 Axes>"
      ]
     },
     "metadata": {
      "needs_background": "light"
     },
     "output_type": "display_data"
    }
   ],
   "source": [
    "image = cv2.imread(\"images/Four_Bit_Majority_Circuit.png\")\n",
    "fig, ax = plt.subplots(1,1,figsize=(15, 5))\n",
    "ax.set_title(\"Four bit majority function\")\n",
    "ax.imshow(image)\n",
    "ax.set_axis_off()"
   ]
  },
  {
   "cell_type": "markdown",
   "metadata": {},
   "source": [
    "The figure above was taken from [here](https://en.wikipedia.org/wiki/Majority_function).\n",
    "\n",
    "As it can be observed, the circuit recieves a four bit string as input. \n",
    "Then it tests multiple conbinations of the entries to verify its majority condition. \n",
    "In this case it is verifying if at least  $ > 50\\%$ of the entry is set to $1$. \n",
    "\n",
    "The circuit can be modified to verify if exactly $50\\%$ of the entry is set to one.\n",
    "For the case of this $4$-bit string it would be necessary to use $\\binom{4}{2}$ $AND$ gates and one $OR$ gate."
   ]
  },
  {
   "cell_type": "markdown",
   "metadata": {},
   "source": [
    "## Implementing the quantum version of the sign function\n",
    "\n",
    "Before we get into the details of the  Quantum BNN implementation it is necessary to think about how to implement the sign functon. \n",
    "\n",
    "First the reversible $AND$ gate can be implemented using the $CNOT$ gate or $Toffoli$. \n",
    "A quick recall of how the $Toffoli$ operates over the states when used as a $AND$ reversible gate:\n",
    "$$\n",
    "Toffoli|x\\rangle|y\\rangle|0\\rangle = |x\\rangle|y\\rangle|x\\wedge y\\rangle\n",
    "$$\n",
    "\n",
    "To build the $OR$ reversible gate we can take advantage of DeMorgan's law. \n",
    "$$\n",
    "Toffoli\\left( X\\otimes X |x\\rangle|y\\rangle|1\\rangle \\right) = Toffoli |\\neg x\\rangle|\\neg y\\rangle|1\\rangle\n",
    "$$\n",
    "\n",
    "Which leads to:\n",
    "$$\n",
    "|\\neg x\\rangle|\\neg y\\rangle|\\neg(\\neg x \\wedge \\neg y)\\rangle = |\\neg x\\rangle|\\neg y\\rangle|( x \\vee y)\\rangle\n",
    "$$\n",
    "Then the application of the NOT gates can be reversed.\n",
    "The quantum circuit for those operations will be as the ws:\n"
   ]
  },
  {
   "cell_type": "code",
   "execution_count": 11,
   "metadata": {},
   "outputs": [
    {
     "data": {
      "text/html": [
       "<pre style=\"word-wrap: normal;white-space: pre;line-height: 15px;\">        ┌───┐     ┌───┐\n",
       "q_0: |0>┤ X ├──■──┤ X ├\n",
       "        ├───┤  │  ├───┤\n",
       "q_1: |0>┤ X ├──■──┤ X ├\n",
       "        ├───┤┌─┴─┐└───┘\n",
       "q_2: |0>┤ X ├┤ X ├─────\n",
       "        └───┘└───┘     \n",
       " c_0: 0 ═══════════════\n",
       "                       </pre>"
      ],
      "text/plain": [
       "<qiskit.visualization.text.TextDrawing at 0x7effc0c7fbe0>"
      ]
     },
     "execution_count": 11,
     "metadata": {},
     "output_type": "execute_result"
    }
   ],
   "source": [
    "qub = QuantumRegister(3,'q')\n",
    "cb = ClassicalRegister(1,'c')\n",
    "qc = QuantumCircuit(qub,cb)\n",
    "\n",
    "qc.x(qub[0])\n",
    "qc.x(qub[1])\n",
    "\n",
    "# Setting ancilary qubit to 1\n",
    "qc.x(qub[2])\n",
    "\n",
    "qc.ccx(qub[0],qub[1],qub[2])\n",
    "\n",
    "# Reversing the aplication of the not gates\n",
    "qc.x(qub[0])\n",
    "qc.x(qub[1])\n",
    "qc.draw()"
   ]
  },
  {
   "cell_type": "markdown",
   "metadata": {},
   "source": [
    "However, for a three qubit entry the circuit would have be a little bit different.\n",
    "But as it has been said, the number of comparisons necessary to implement a quantum majority function would have to be $\\binom{2^n}{k}$. Where $2^n$ represents the size of the entry and $k$ represents the number of qubits we desire to be set to $1$ in the string."
   ]
  },
  {
   "cell_type": "code",
   "execution_count": 17,
   "metadata": {},
   "outputs": [
    {
     "data": {
      "text/html": [
       "<pre style=\"word-wrap: normal;white-space: pre;line-height: 15px;\">                                                \n",
       "q_0: |0>──■────■────────────────────────────────\n",
       "          │    │                                \n",
       "q_1: |0>──■────┼─────────■──────────────────────\n",
       "          │    │         │                      \n",
       "q_2: |0>──┼────■─────────■──────────────────────\n",
       "        ┌─┴─┐  │  ┌───┐  │                      \n",
       "q_3: |0>┤ X ├──┼──┤ X ├──┼─────────■────────────\n",
       "        └───┘┌─┴─┐└───┘  │  ┌───┐  │            \n",
       "q_4: |0>─────┤ X ├───────┼──┤ X ├──■────────────\n",
       "             └───┘     ┌─┴─┐└───┘  │  ┌───┐     \n",
       "q_5: |0>───────────────┤ X ├───────┼──┤ X ├──■──\n",
       "        ┌───┐          └───┘     ┌─┴─┐└───┘  │  \n",
       "q_6: |0>┤ X ├────────────────────┤ X ├───────■──\n",
       "        └───┘                    └───┘     ┌─┴─┐\n",
       "q_7: |0>───────────────────────────────────┤ X ├\n",
       "                                           └───┘\n",
       " c_0: 0 ════════════════════════════════════════\n",
       "                                                </pre>"
      ],
      "text/plain": [
       "<qiskit.visualization.text.TextDrawing at 0x7effc0a1ac18>"
      ]
     },
     "execution_count": 17,
     "metadata": {},
     "output_type": "execute_result"
    }
   ],
   "source": [
    "n_input = 3\n",
    "n_ancila = n_input+2\n",
    "\n",
    "qub = QuantumRegister(n_input+n_ancila,'q')\n",
    "cb = ClassicalRegister(1,'c')\n",
    "qc = QuantumCircuit(qub,cb)\n",
    "\n",
    "# Making the AND gate comparisons\n",
    "# Given the entry |xyz>|00000>\n",
    "# Making |xyz>|(x and y)0000>\n",
    "qc.ccx(qub[0],qub[1],qub[3])\n",
    "\n",
    "# Making |xyz>|(x and y)(x and z)000>\n",
    "qc.ccx(qub[0],qub[2],qub[4])\n",
    "# Making |xyz>|(x and y)(x and z)(y and z)00>\n",
    "qc.ccx(qub[1],qub[2],qub[5])\n",
    "\n",
    "# Aplying OR gate in the outputs of the previous applications\n",
    "qc.x(qub[3])\n",
    "qc.x(qub[4])\n",
    "qc.x(qub[5])\n",
    "# Setting OR qubits' ancilary gate to |1>\n",
    "qc.x(qub[6])\n",
    "qc.x(qub[7])\n",
    "\n",
    "# Making |xyz>|(x and y)(x and z)(y and z)((not (x and y)) and (not (x and z)))0>\n",
    "qc.ccx(qub[3],qub[4],qub[6])\n",
    "# Making |xyz>|(x and y)(x and z)(y and z)(not(not (x and y)) and (not (x and z)) and (not (y and z)))>\n",
    "# Resulting in (x and y)(x and z)(y and z)((x and y) or (x and z) or (y and z))\n",
    "qc.ccx(qub[5],qub[6],qub[7])\n",
    "\n",
    "qc.draw()\n"
   ]
  },
  {
   "cell_type": "code",
   "execution_count": null,
   "metadata": {},
   "outputs": [],
   "source": []
  }
 ],
 "metadata": {
  "kernelspec": {
   "display_name": "Python 3",
   "language": "python",
   "name": "python3"
  },
  "language_info": {
   "codemirror_mode": {
    "name": "ipython",
    "version": 3
   },
   "file_extension": ".py",
   "mimetype": "text/x-python",
   "name": "python",
   "nbconvert_exporter": "python",
   "pygments_lexer": "ipython3",
   "version": "3.6.9"
  }
 },
 "nbformat": 4,
 "nbformat_minor": 2
}
